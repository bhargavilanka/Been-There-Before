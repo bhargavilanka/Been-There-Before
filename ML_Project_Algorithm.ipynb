{
  "nbformat": 4,
  "nbformat_minor": 0,
  "metadata": {
    "colab": {
      "provenance": []
    },
    "kernelspec": {
      "name": "python3",
      "display_name": "Python 3"
    },
    "language_info": {
      "name": "python"
    }
  },
  "cells": [
    {
      "cell_type": "code",
      "execution_count": null,
      "metadata": {
        "id": "gmu4IlcPo81n"
      },
      "outputs": [],
      "source": [
        "import pandas as pd\n",
        "import numpy as np\n",
        "\n",
        "result_df = pd.read_csv('NeighDemo_ActuallyUseThisOne.csv')\n"
      ]
    },
    {
      "cell_type": "code",
      "source": [
        "from sklearn.preprocessing import StandardScaler\n",
        "\n",
        "result_df['Neighborhood'] = result_df['Neighborhood'].str.strip()\n",
        "\n",
        "numerical_data = result_df.iloc[:, 4:]\n",
        "\n",
        "scaler = StandardScaler()\n",
        "scaled_data = scaler.fit_transform(numerical_data)\n",
        "scaled_data = np.nan_to_num(scaled_data, nan=0.0)"
      ],
      "metadata": {
        "id": "mLxd-HMMpT05"
      },
      "execution_count": null,
      "outputs": []
    },
    {
      "cell_type": "code",
      "source": [
        "from sklearn.cluster import KMeans\n",
        "import matplotlib.pyplot as plt\n",
        "\n",
        "# Calculate WCSS for different cluster numbers\n",
        "wcss = []\n",
        "for k in range(1, 11):\n",
        "    kmeans = KMeans(n_clusters=k, random_state=42)\n",
        "    kmeans.fit(scaled_data)\n",
        "    wcss.append(kmeans.inertia_)\n",
        "\n",
        "# Plot the elbow graph\n",
        "plt.figure(figsize=(8, 5))\n",
        "plt.plot(range(1, 11), wcss, marker='o')\n",
        "plt.title(\"Elbow Method\")\n",
        "plt.xlabel(\"Number of Clusters\")\n",
        "plt.ylabel(\"WCSS\")\n",
        "plt.show()"
      ],
      "metadata": {
        "colab": {
          "base_uri": "https://localhost:8080/",
          "height": 487
        },
        "id": "CIqy9YXupUXL",
        "outputId": "d4c607cc-311b-4c45-9c5a-dad26036f7ee"
      },
      "execution_count": null,
      "outputs": [
        {
          "output_type": "display_data",
          "data": {
            "text/plain": [
              "<Figure size 800x500 with 1 Axes>"
            ],
            "image/png": "[encoded data removed]"
          },
          "metadata": {}
        }
      ]
    },
    {
      "cell_type": "code",
      "source": [
        "optimal_k = 5\n",
        "kmeans = KMeans(n_clusters=optimal_k, random_state=42)\n",
        "clusters = kmeans.fit_predict(scaled_data)\n",
        "\n",
        "result_df[\"Cluster\"] = clusters"
      ],
      "metadata": {
        "id": "515gw6ZjpXCX"
      },
      "execution_count": null,
      "outputs": []
    },
    {
      "cell_type": "code",
      "source": [
        "from sklearn.metrics.pairwise import euclidean_distances\n",
        "import numpy as np\n",
        "\n",
        "def find_closest_neighborhood(city1, neighborhood1, city2, df):\n",
        "    city1 = city1.strip().lower()\n",
        "    neighborhood1 = neighborhood1.strip().lower()\n",
        "    city2 = city2.strip().lower()\n",
        "\n",
        "    # Normalize data in the DataFrame\n",
        "    df[\"City_normalized\"] = df[\"City\"].str.strip().str.lower()\n",
        "    df[\"Neighborhood_normalized\"] = df[\"Neighborhood\"].str.strip().str.lower()\n",
        "\n",
        "    city1_data = df[df[\"City_normalized\"] == city1]\n",
        "    if city1_data.empty:\n",
        "        raise ValueError(f\"No data found for city '{city1}'.\")\n",
        "\n",
        "    # Set NaN values to 0 for city1_data\n",
        "    city1_data = city1_data.fillna(0)\n",
        "\n",
        "    # Filter data for City #2\n",
        "    city2_data = df[df[\"City_normalized\"] == city2]\n",
        "    if city2_data.empty:\n",
        "        raise ValueError(f\"No data found for city '{city2}'.\")\n",
        "\n",
        "    # Set NaN values to 0 for city2_data\n",
        "    city2_data = city2_data.fillna(0)\n",
        "\n",
        "    # Get data for the specified neighborhood in City #1\n",
        "    neighborhood1_data = city1_data[city1_data[\"Neighborhood_normalized\"] == neighborhood1].iloc[:, 4:]\n",
        "    if neighborhood1_data.empty:\n",
        "        raise ValueError(f\"No data found for neighborhood '{neighborhood1}' in city '{city1}'.\")\n",
        "\n",
        "    # Extract numerical data for neighborhoods in City #2\n",
        "    city2_numerical = city2_data.iloc[:, 4:]\n",
        "    if city2_numerical.empty:\n",
        "        raise ValueError(f\"City '{city2}' has no valid numerical data.\")\n",
        "\n",
        "    # Compute Euclidean distances\n",
        "    distances = euclidean_distances(neighborhood1_data, city2_numerical)\n",
        "\n",
        "    # Find the index of the closest neighborhood\n",
        "    closest_idx = np.argmin(distances)\n",
        "    return city2_data.iloc[closest_idx][\"Neighborhood\"]\n",
        "\n",
        "closest = find_closest_neighborhood(\"New York City\", \"Bushwick and Williamsburg\", \"San Fransisco\", result_df)\n",
        "knn_neighborhood = closest\n",
        "print(\"Closest neighborhood:\", closest)"
      ],
      "metadata": {
        "colab": {
          "base_uri": "https://localhost:8080/"
        },
        "id": "ZoTocFHlpZmn",
        "outputId": "ebbfc32e-78b1-4e50-f37d-d7922435a336"
      },
      "execution_count": null,
      "outputs": [
        {
          "output_type": "stream",
          "name": "stdout",
          "text": [
            "Closest neighborhood: Nob Hill\n"
          ]
        }
      ]
    },
    {
      "cell_type": "code",
      "source": [
        "def find_closest_neighborhood_cluster(city1, neighborhood1, city2, df, optimal_k):\n",
        "    city1 = city1.strip().lower()\n",
        "    neighborhood1 = neighborhood1.strip().lower()\n",
        "    city2 = city2.strip().lower()\n",
        "\n",
        "    # Normalize DataFrame columns\n",
        "    df[\"City_normalized\"] = df[\"City\"].str.strip().str.lower()\n",
        "    df[\"Neighborhood_normalized\"] = df[\"Neighborhood\"].str.strip().str.lower()\n",
        "\n",
        "    # Filter data for City #1\n",
        "    city1_data = df[df[\"City_normalized\"] == city1]\n",
        "    if city1_data.empty:\n",
        "        raise ValueError(f\"No data found for city '{city1}'.\")\n",
        "\n",
        "    # Set NaN values to 0 for city1_data\n",
        "    city1_data = city1_data.fillna(0)\n",
        "\n",
        "    # Filter data for City #2\n",
        "    city2_data = df[df[\"City_normalized\"] == city2]\n",
        "    if city2_data.empty:\n",
        "        raise ValueError(f\"No data found for city '{city2}'.\")\n",
        "\n",
        "    # Set NaN values to 0 for city2_data\n",
        "    city2_data = city2_data.fillna(0)\n",
        "\n",
        "    # Get data for the specified neighborhood in City #1\n",
        "    neighborhood1_data = city1_data[city1_data[\"Neighborhood_normalized\"] == neighborhood1].iloc[:, 4:]\n",
        "    if neighborhood1_data.empty:\n",
        "        raise ValueError(f\"No data found for neighborhood '{neighborhood1}' in city '{city1}'.\")\n",
        "\n",
        "    # Extract cluster label for the neighborhood in City #1\n",
        "    neighborhood1_cluster = city1_data[city1_data[\"Neighborhood_normalized\"] == neighborhood1][\"Cluster\"].iloc[0]\n",
        "\n",
        "    # Filter neighborhoods in City #2 that are in the same cluster as neighborhood1\n",
        "    city2_in_same_cluster = city2_data[city2_data[\"Cluster\"] == neighborhood1_cluster]\n",
        "\n",
        "    if not city2_in_same_cluster.empty:\n",
        "        # Compute Euclidean distances within the same cluster\n",
        "        city2_numerical_same_cluster = city2_in_same_cluster.iloc[:, 4:]\n",
        "        distances = euclidean_distances(neighborhood1_data, city2_numerical_same_cluster)\n",
        "\n",
        "        # Find the index of the closest neighborhood within the same cluster\n",
        "        closest_idx = np.argmin(distances)\n",
        "        return city2_in_same_cluster.iloc[closest_idx][\"Neighborhood\"]\n",
        "    else:\n",
        "        # If no neighborhoods are in the same cluster, use KNN without clusters\n",
        "        city2_numerical = city2_data.iloc[:, 4:]\n",
        "        distances = euclidean_distances(neighborhood1_data, city2_numerical)\n",
        "\n",
        "        # Find the index of the closest neighborhood in City #2\n",
        "        closest_idx = np.argmin(distances)\n",
        "        return city2_data.iloc[closest_idx][\"Neighborhood\"]\n",
        "\n",
        "\n",
        "optimal_k = 5\n",
        "kmeans = KMeans(n_clusters=optimal_k, random_state=42)\n",
        "clusters = kmeans.fit_predict(scaled_data)\n",
        "result_df[\"Cluster\"] = clusters\n",
        "\n",
        "closest = find_closest_neighborhood_cluster(\"New York City\", \"Bushwick and Williamsburg\", \"San Fransisco\", result_df, optimal_k)\n",
        "demo_neighborhood = closest\n",
        "print(\"Closest neighborhood:\", closest)"
      ],
      "metadata": {
        "colab": {
          "base_uri": "https://localhost:8080/"
        },
        "id": "rTUirdww6h6B",
        "outputId": "4f393941-dd70-46cc-b382-494f93a0d1d4"
      },
      "execution_count": null,
      "outputs": [
        {
          "output_type": "stream",
          "name": "stdout",
          "text": [
            "Closest neighborhood: Nob Hill\n"
          ]
        }
      ]
    },
    {
      "cell_type": "code",
      "source": [
        "vibe_neighborhood = closest"
      ],
      "metadata": {
        "id": "f9dPEzr7OBNS"
      },
      "execution_count": null,
      "outputs": []
    },
    {
      "cell_type": "code",
      "source": [
        "def hard_vote(neigh1, neigh2, neigh3):\n",
        "  if (neigh1 == neigh2 == neigh3):\n",
        "    return neigh1\n",
        "  elif (neigh2 == neigh3):\n",
        "    return neigh2\n",
        "  elif (neigh1 == neigh2):\n",
        "    return neigh1\n",
        "  elif (neigh1 == neigh3):\n",
        "    return neigh1\n",
        "  else:\n",
        "    return neigh1\n",
        "\n",
        "\n",
        "city_known = \"New York City\"\n",
        "neighborhood_known = \"Upper West Side\"\n",
        "city_new = \"Boston\"\n",
        "optimal_k = 5\n",
        "knn_neighborhood = find_closest_neighborhood(city_known, neighborhood_known, city_new, result_df)\n",
        "demo_neighborhood = find_closest_neighborhood_cluster(\"New York City\", \"Bushwick and Williamsburg\", \"San Fransisco\", result_df, optimal_k)\n",
        "vibe_neighborhood = \"To be done\"\n",
        "\n",
        "final_neighborhood = hard_vote(knn_neighborhood,demo_neighborhood,vibe_neighborhood)\n",
        "print(\"The most similar neighborhood is:\", final_neighborhood)"
      ],
      "metadata": {
        "id": "jOENZfUjOELE"
      },
      "execution_count": null,
      "outputs": []
    }
  ]
}