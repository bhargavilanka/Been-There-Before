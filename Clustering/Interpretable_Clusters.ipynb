{
 "cells": [
  {
   "cell_type": "code",
   "execution_count": 3,
   "id": "37cc15a8-ec65-4002-8fac-857a53b819ef",
   "metadata": {},
   "outputs": [
    {
     "name": "stdout",
     "output_type": "stream",
     "text": [
      "Classification Accuracy: 0.9650190114068441\n"
     ]
    },
    {
     "data": {
      "text/plain": [
       "\"/var/folders/p_/j5379bnd7t7f3l97gslk8q_80000gn/T/jl_0SLsnf.html\""
      ]
     },
     "execution_count": 3,
     "metadata": {},
     "output_type": "execute_result"
    }
   ],
   "source": [
    "using CSV\n",
    "using DataFrames\n",
    "using CategoricalArrays\n",
    "\n",
    "# Load the dataset from a CSV file\n",
    "df = CSV.read(\"demo_clusters.csv\", DataFrame)\n",
    "\n",
    "# Ensure 'Cluster' is treated as a categorical variable (if it's not already)\n",
    "df.Cluster = categorical(df.Cluster)\n",
    "\n",
    "# Create a GridSearch object for hyperparameter tuning\n",
    "grid = IAI.GridSearch(\n",
    "    IAI.OptimalTreeClassifier(\n",
    "        max_depth=4,               # Maximum depth of the tree\n",
    "        criterion=:misclassification,  # Split criterion for the classifier\n",
    "        missingdatamode=:separate_class  # Handle missing data as a separate class\n",
    "    )\n",
    ")\n",
    "\n",
    "# Select all columns except the last column for features (assuming 'Cluster' is the target)\n",
    "df_selected = df[:, 4:end-1]\n",
    "\n",
    "# Fit the model, using the features (all columns except 'Cluster') and the target ('Cluster')\n",
    "IAI.fit!(grid, df_selected, df.Cluster)\n",
    "\n",
    "# Evaluate the classification accuracy\n",
    "accuracy = IAI.score(grid, df_selected, df.Cluster)\n",
    "println(\"Classification Accuracy: \", accuracy)\n",
    "\n",
    "# Visualize the tree\n",
    "IAI.show_in_browser(grid)\n",
    "\n"
   ]
  },
  {
   "cell_type": "code",
   "execution_count": 4,
   "id": "c3e8071c-c58b-4234-b163-723a48f1dcf1",
   "metadata": {},
   "outputs": [
    {
     "name": "stdout",
     "output_type": "stream",
     "text": [
      "Classification Accuracy: 0.9657794676806084\n"
     ]
    },
    {
     "data": {
      "text/plain": [
       "\"/var/folders/p_/j5379bnd7t7f3l97gslk8q_80000gn/T/jl_vN1b3a.html\""
      ]
     },
     "execution_count": 4,
     "metadata": {},
     "output_type": "execute_result"
    }
   ],
   "source": [
    "using CSV\n",
    "using DataFrames\n",
    "using CategoricalArrays\n",
    "\n",
    "# Load the dataset from a CSV file\n",
    "df = CSV.read(\"demo_clusters.csv\", DataFrame)\n",
    "\n",
    "# Ensure 'Cluster' is treated as a categorical variable (if it's not already)\n",
    "df.Cluster = categorical(df.Cluster)\n",
    "\n",
    "# Create a GridSearch object for hyperparameter tuning\n",
    "grid = IAI.GridSearch(\n",
    "    IAI.OptimalTreeClassifier(\n",
    "        max_depth=5,               # Maximum depth of the tree\n",
    "        criterion=:misclassification,  # Split criterion for the classifier\n",
    "        missingdatamode=:separate_class  # Handle missing data as a separate class\n",
    "    )\n",
    ")\n",
    "\n",
    "# Select all columns except the last column for features (assuming 'Cluster' is the target)\n",
    "df_selected = df[:, 4:end-1]\n",
    "\n",
    "# Fit the model, using the features (all columns except 'Cluster') and the target ('Cluster')\n",
    "IAI.fit!(grid, df_selected, df.Cluster)\n",
    "\n",
    "# Evaluate the classification accuracy\n",
    "accuracy = IAI.score(grid, df_selected, df.Cluster)\n",
    "println(\"Classification Accuracy: \", accuracy)\n",
    "\n",
    "# Visualize the tree\n",
    "IAI.show_in_browser(grid)"
   ]
  },
  {
   "cell_type": "code",
   "execution_count": 5,
   "id": "e23f95ec-4f5f-40a4-8854-6f68f2e094b3",
   "metadata": {},
   "outputs": [
    {
     "name": "stdout",
     "output_type": "stream",
     "text": [
      "Classification Accuracy: 0.9277566539923955\n"
     ]
    },
    {
     "data": {
      "text/plain": [
       "\"/var/folders/p_/j5379bnd7t7f3l97gslk8q_80000gn/T/jl_4hcv6J.html\""
      ]
     },
     "execution_count": 5,
     "metadata": {},
     "output_type": "execute_result"
    }
   ],
   "source": [
    "using CSV\n",
    "using DataFrames\n",
    "using CategoricalArrays\n",
    "\n",
    "# Load the dataset from a CSV file\n",
    "df = CSV.read(\"demo_clusters.csv\", DataFrame)\n",
    "\n",
    "# Ensure 'Cluster' is treated as a categorical variable (if it's not already)\n",
    "df.Cluster = categorical(df.Cluster)\n",
    "\n",
    "# Create a GridSearch object for hyperparameter tuning\n",
    "grid = IAI.GridSearch(\n",
    "    IAI.OptimalTreeClassifier(\n",
    "        max_depth=3,               # Maximum depth of the tree\n",
    "        criterion=:misclassification,  # Split criterion for the classifier\n",
    "        missingdatamode=:separate_class  # Handle missing data as a separate class\n",
    "    )\n",
    ")\n",
    "\n",
    "# Select all columns except the last column for features (assuming 'Cluster' is the target)\n",
    "df_selected = df[:, 4:end-1]\n",
    "\n",
    "# Fit the model, using the features (all columns except 'Cluster') and the target ('Cluster')\n",
    "IAI.fit!(grid, df_selected, df.Cluster)\n",
    "\n",
    "# Evaluate the classification accuracy\n",
    "accuracy = IAI.score(grid, df_selected, df.Cluster)\n",
    "println(\"Classification Accuracy: \", accuracy)\n",
    "\n",
    "# Visualize the tree\n",
    "IAI.show_in_browser(grid)"
   ]
  }
 ],
 "metadata": {
  "kernelspec": {
   "display_name": "Julia (IAI) 1.10.4",
   "language": "julia",
   "name": "julia-_iai_-1.10"
  },
  "language_info": {
   "file_extension": ".jl",
   "mimetype": "application/julia",
   "name": "julia",
   "version": "1.10.4"
  }
 },
 "nbformat": 4,
 "nbformat_minor": 5
}
