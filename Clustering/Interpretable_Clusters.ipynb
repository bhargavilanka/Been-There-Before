{
 "cells": [
  {
   "cell_type": "code",
   "execution_count": 5,
   "id": "37cc15a8-ec65-4002-8fac-857a53b819ef",
   "metadata": {},
   "outputs": [
    {
     "ename": "LoadError",
     "evalue": "ArgumentError: \"demo_clusters.csv\" is not a valid file or doesn't exist",
     "output_type": "error",
     "traceback": [
      "ArgumentError: \"demo_clusters.csv\" is not a valid file or doesn't exist",
      "",
      "Stacktrace:",
      " [1] CSV.Context(source::CSV.Arg, header::CSV.Arg, normalizenames::CSV.Arg, datarow::CSV.Arg, skipto::CSV.Arg, footerskip::CSV.Arg, transpose::CSV.Arg, comment::CSV.Arg, ignoreemptyrows::CSV.Arg, ignoreemptylines::CSV.Arg, select::CSV.Arg, drop::CSV.Arg, limit::CSV.Arg, buffer_in_memory::CSV.Arg, threaded::CSV.Arg, ntasks::CSV.Arg, tasks::CSV.Arg, rows_to_check::CSV.Arg, lines_to_check::CSV.Arg, missingstrings::CSV.Arg, missingstring::CSV.Arg, delim::CSV.Arg, ignorerepeated::CSV.Arg, quoted::CSV.Arg, quotechar::CSV.Arg, openquotechar::CSV.Arg, closequotechar::CSV.Arg, escapechar::CSV.Arg, dateformat::CSV.Arg, dateformats::CSV.Arg, decimal::CSV.Arg, groupmark::CSV.Arg, truestrings::CSV.Arg, falsestrings::CSV.Arg, stripwhitespace::CSV.Arg, type::CSV.Arg, types::CSV.Arg, typemap::CSV.Arg, pool::CSV.Arg, downcast::CSV.Arg, lazystrings::CSV.Arg, stringtype::CSV.Arg, strict::CSV.Arg, silencewarnings::CSV.Arg, maxwarnings::CSV.Arg, debug::CSV.Arg, parsingdebug::CSV.Arg, validate::CSV.Arg, streaming::CSV.Arg)",
      "   @ CSV ~/.julia/packages/CSV/cwX2w/src/context.jl:314",
      " [2] #File#32",
      "   @ ~/.julia/packages/CSV/cwX2w/src/file.jl:222 [inlined]",
      " [3] CSV.File(source::String)",
      "   @ CSV ~/.julia/packages/CSV/cwX2w/src/file.jl:162",
      " [4] read(source::String, sink::Type; copycols::Bool, kwargs::@Kwargs{})",
      "   @ CSV ~/.julia/packages/CSV/cwX2w/src/CSV.jl:117",
      " [5] read(source::String, sink::Type)",
      "   @ CSV ~/.julia/packages/CSV/cwX2w/src/CSV.jl:113",
      " [6] top-level scope",
      "   @ In[5]:6"
     ]
    }
   ],
   "source": [
    "using CSV\n",
    "using DataFrames\n",
    "\n",
    "# Load the dataset from a CSV file\n",
    "file_path = \"demo_clusters.csv\"\n",
    "df = CSV.read(file_path, DataFrame)\n",
    "\n",
    "# Ensure 'Cluster' is treated as a categorical variable (if it's not already)\n",
    "df.Cluster = categorical(df.Cluster)\n",
    "\n",
    "# Create a GridSearch object for hyperparameter tuning\n",
    "grid = IAI.GridSearch(\n",
    "    IAI.OptimalTreeClassifier(\n",
    "        max_depth=5, # Maximum depth of the tree\n",
    "        criterion=:accuracy # Split criterion for the classifier\n",
    "    )\n",
    ")\n",
    "\n",
    "# Fit the model, using the features (all columns except 'Cluster') and the target ('Cluster')\n",
    "IAI.fit!(grid, select(df, Not(:Cluster)), df.Cluster)\n",
    "\n",
    "# Evaluate the classification accuracy\n",
    "accuracy = IAI.score(grid, select(df, Not(:Cluster)), df.Cluster)\n",
    "println(\"Classification Accuracy: \", accuracy)\n",
    "\n",
    "# Visualize the tree\n",
    "IAI.show_in_browser(grid)\n"
   ]
  },
  {
   "cell_type": "code",
   "execution_count": null,
   "id": "c3e8071c-c58b-4234-b163-723a48f1dcf1",
   "metadata": {},
   "outputs": [],
   "source": []
  }
 ],
 "metadata": {
  "kernelspec": {
   "display_name": "Julia (IAI) 1.10.4",
   "language": "julia",
   "name": "julia-_iai_-1.10"
  },
  "language_info": {
   "file_extension": ".jl",
   "mimetype": "application/julia",
   "name": "julia",
   "version": "1.10.4"
  }
 },
 "nbformat": 4,
 "nbformat_minor": 5
}
