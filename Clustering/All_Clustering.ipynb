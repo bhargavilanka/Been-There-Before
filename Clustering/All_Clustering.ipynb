{
 "cells": [
  {
   "cell_type": "code",
   "execution_count": 185,
   "metadata": {},
   "outputs": [],
   "source": [
    "# imports / libraries used\n",
    "import pandas as pd\n",
    "import numpy as np\n",
    "from sentence_transformers import SentenceTransformer\n",
    "from sklearn.preprocessing import StandardScaler\n",
    "from sklearn.cluster import KMeans\n",
    "import matplotlib.pyplot as plt\n",
    "from sklearn.metrics.pairwise import euclidean_distances"
   ]
  },
  {
   "cell_type": "code",
   "execution_count": 186,
   "metadata": {},
   "outputs": [],
   "source": [
    "# load data and make sure we have data for everything \n",
    "\n",
    "demo_data = pd.read_csv('Census_Data_Prop.csv')\n",
    "demo_data = demo_data.dropna()\n",
    "\n",
    "vibe_data = pd.read_csv('Text_Data.csv')\n",
    "vibe_data = vibe_data.dropna()\n",
    "\n",
    "all_data = pd.merge(demo_data, vibe_data, on=(\"State\", \"City\", \"Neighborhood\"))"
   ]
  },
  {
   "cell_type": "markdown",
   "metadata": {},
   "source": [
    "##### Demographic Clusters"
   ]
  },
  {
   "cell_type": "code",
   "execution_count": 187,
   "metadata": {},
   "outputs": [],
   "source": [
    "# preprocess demographic data\n",
    "\n",
    "# keep columns we need - demographic\n",
    "numerical_data = demo_data.iloc[:, 4:]\n",
    "numerical_data = numerical_data.astype(float)\n",
    "\n",
    "# scale data\n",
    "scaler = StandardScaler()\n",
    "scaled_data = scaler.fit_transform(numerical_data)\n",
    "scaled_data = np.nan_to_num(scaled_data, nan=0.0)"
   ]
  },
  {
   "cell_type": "code",
   "execution_count": 188,
   "metadata": {},
   "outputs": [
    {
     "name": "stderr",
     "output_type": "stream",
     "text": [
      "/Users/bhargavilanka/opt/anaconda3/lib/python3.8/site-packages/sklearn/cluster/_kmeans.py:1412: FutureWarning: The default value of `n_init` will change from 10 to 'auto' in 1.4. Set the value of `n_init` explicitly to suppress the warning\n",
      "  super()._check_params_vs_input(X, default_n_init=10)\n",
      "/Users/bhargavilanka/opt/anaconda3/lib/python3.8/site-packages/sklearn/cluster/_kmeans.py:1412: FutureWarning: The default value of `n_init` will change from 10 to 'auto' in 1.4. Set the value of `n_init` explicitly to suppress the warning\n",
      "  super()._check_params_vs_input(X, default_n_init=10)\n",
      "/Users/bhargavilanka/opt/anaconda3/lib/python3.8/site-packages/sklearn/cluster/_kmeans.py:1412: FutureWarning: The default value of `n_init` will change from 10 to 'auto' in 1.4. Set the value of `n_init` explicitly to suppress the warning\n",
      "  super()._check_params_vs_input(X, default_n_init=10)\n",
      "/Users/bhargavilanka/opt/anaconda3/lib/python3.8/site-packages/sklearn/cluster/_kmeans.py:1412: FutureWarning: The default value of `n_init` will change from 10 to 'auto' in 1.4. Set the value of `n_init` explicitly to suppress the warning\n",
      "  super()._check_params_vs_input(X, default_n_init=10)\n",
      "/Users/bhargavilanka/opt/anaconda3/lib/python3.8/site-packages/sklearn/cluster/_kmeans.py:1412: FutureWarning: The default value of `n_init` will change from 10 to 'auto' in 1.4. Set the value of `n_init` explicitly to suppress the warning\n",
      "  super()._check_params_vs_input(X, default_n_init=10)\n",
      "/Users/bhargavilanka/opt/anaconda3/lib/python3.8/site-packages/sklearn/cluster/_kmeans.py:1412: FutureWarning: The default value of `n_init` will change from 10 to 'auto' in 1.4. Set the value of `n_init` explicitly to suppress the warning\n",
      "  super()._check_params_vs_input(X, default_n_init=10)\n",
      "/Users/bhargavilanka/opt/anaconda3/lib/python3.8/site-packages/sklearn/cluster/_kmeans.py:1412: FutureWarning: The default value of `n_init` will change from 10 to 'auto' in 1.4. Set the value of `n_init` explicitly to suppress the warning\n",
      "  super()._check_params_vs_input(X, default_n_init=10)\n",
      "/Users/bhargavilanka/opt/anaconda3/lib/python3.8/site-packages/sklearn/cluster/_kmeans.py:1412: FutureWarning: The default value of `n_init` will change from 10 to 'auto' in 1.4. Set the value of `n_init` explicitly to suppress the warning\n",
      "  super()._check_params_vs_input(X, default_n_init=10)\n",
      "/Users/bhargavilanka/opt/anaconda3/lib/python3.8/site-packages/sklearn/cluster/_kmeans.py:1412: FutureWarning: The default value of `n_init` will change from 10 to 'auto' in 1.4. Set the value of `n_init` explicitly to suppress the warning\n",
      "  super()._check_params_vs_input(X, default_n_init=10)\n",
      "/Users/bhargavilanka/opt/anaconda3/lib/python3.8/site-packages/sklearn/cluster/_kmeans.py:1412: FutureWarning: The default value of `n_init` will change from 10 to 'auto' in 1.4. Set the value of `n_init` explicitly to suppress the warning\n",
      "  super()._check_params_vs_input(X, default_n_init=10)\n"
     ]
    },
    {
     "data": {
      "image/png": "[encoded data removed]",
      "text/plain": [
       "<Figure size 576x360 with 1 Axes>"
      ]
     },
     "metadata": {
      "needs_background": "light"
     },
     "output_type": "display_data"
    }
   ],
   "source": [
    "# perform k-means clustering - evaluate several k values\n",
    "wcss = []\n",
    "for k in range(1, 11):\n",
    "    kmeans = KMeans(n_clusters=k, random_state=42)\n",
    "    kmeans.fit(scaled_data)\n",
    "    wcss.append(kmeans.inertia_)\n",
    "\n",
    "# review elbow graph to determine optimal k\n",
    "plt.figure(figsize=(8, 5))\n",
    "plt.plot(range(1, 11), wcss, marker='o')\n",
    "plt.title(\"Elbow Method for Demographic Data\")\n",
    "plt.xlabel(\"Number of Clusters\")\n",
    "plt.ylabel(\"WCSS\")\n",
    "plt.show()"
   ]
  },
  {
   "cell_type": "code",
   "execution_count": 189,
   "metadata": {},
   "outputs": [
    {
     "name": "stderr",
     "output_type": "stream",
     "text": [
      "/Users/bhargavilanka/opt/anaconda3/lib/python3.8/site-packages/sklearn/cluster/_kmeans.py:1412: FutureWarning: The default value of `n_init` will change from 10 to 'auto' in 1.4. Set the value of `n_init` explicitly to suppress the warning\n",
      "  super()._check_params_vs_input(X, default_n_init=10)\n"
     ]
    }
   ],
   "source": [
    "# run k-means with optimal k and save clusters\n",
    "optimal_k = 5\n",
    "kmeans = KMeans(n_clusters=optimal_k, random_state=42)\n",
    "clusters = kmeans.fit_predict(scaled_data)\n",
    "\n",
    "demo_data[\"Cluster_Demo\"] = clusters"
   ]
  },
  {
   "cell_type": "code",
   "execution_count": 190,
   "metadata": {},
   "outputs": [],
   "source": [
    "# determine which neighborhoods are closest together within a cluster\n",
    "\n",
    "def find_closest_demo_neighborhood_cluster(city1, neighborhood1, city2, df, optimal_k):\n",
    "    city1 = city1.strip().lower()\n",
    "    neighborhood1 = neighborhood1.strip().lower()\n",
    "    city2 = city2.strip().lower()\n",
    "\n",
    "    # Normalize DataFrame columns\n",
    "    df[\"City_norm\"] = df[\"City\"].str.strip().str.lower()\n",
    "    df[\"Neighborhood_norm\"] = df[\"Neighborhood\"].str.strip().str.lower()\n",
    "\n",
    "    # Filter data for City #1\n",
    "    city1_data = df[df[\"City_norm\"] == city1]\n",
    "    if city1_data.empty:\n",
    "        raise ValueError(f\"No data found for city '{city1}'.\")\n",
    "\n",
    "    # Set NaN values to 0 for city1_data\n",
    "    city1_data = city1_data.fillna(0)\n",
    "\n",
    "    # Filter data for City #2\n",
    "    city2_data = df[df[\"City_norm\"] == city2]\n",
    "    if city2_data.empty:\n",
    "        raise ValueError(f\"No data found for city '{city2}'.\")\n",
    "\n",
    "    # Set NaN values to 0 for city2_data\n",
    "    city2_data = city2_data.fillna(0)\n",
    "\n",
    "    # Get data for the specified neighborhood in City #1\n",
    "    neighborhood1_data = city1_data[city1_data[\"Neighborhood_norm\"] == neighborhood1]\n",
    "    if neighborhood1_data.empty:\n",
    "        raise ValueError(f\"No data found for neighborhood '{neighborhood1}' in city '{city1}'.\")\n",
    "\n",
    "    # Extract cluster label for the neighborhood in City #1\n",
    "    neighborhood1_cluster = neighborhood1_data[\"Cluster_Demo\"].iloc[0]\n",
    "\n",
    "    # Filter neighborhoods in City #2 that are in the same cluster as neighborhood1\n",
    "    city2_in_same_cluster = city2_data[city2_data[\"Cluster_Demo\"] == neighborhood1_cluster]\n",
    "\n",
    "    # Ensure numeric data for Euclidean distance computation\n",
    "    numeric_neighborhood1_data = neighborhood1_data.select_dtypes(include=[np.number])\n",
    "    numeric_city2_same_cluster = city2_in_same_cluster.select_dtypes(include=[np.number])\n",
    "\n",
    "    if not numeric_city2_same_cluster.empty:\n",
    "        # Compute Euclidean distances within the same cluster\n",
    "        distances = euclidean_distances(numeric_neighborhood1_data, numeric_city2_same_cluster)\n",
    "\n",
    "        # Find the index of the closest neighborhood within the same cluster\n",
    "        closest_idx = np.argmin(distances)\n",
    "        return city2_in_same_cluster.iloc[closest_idx][\"Neighborhood\"]\n",
    "    else:\n",
    "        # If no neighborhoods are in the same cluster, use KNN without clusters\n",
    "        numeric_city2_data = city2_data.select_dtypes(include=[np.number])\n",
    "        distances = euclidean_distances(numeric_neighborhood1_data, numeric_city2_data)\n",
    "\n",
    "        # Find the index of the closest neighborhood in City #2\n",
    "        closest_idx = np.argmin(distances)\n",
    "        return city2_data.iloc[closest_idx][\"Neighborhood\"]\n"
   ]
  },
  {
   "cell_type": "markdown",
   "metadata": {},
   "source": [
    "##### Vibe Clusters"
   ]
  },
  {
   "cell_type": "code",
   "execution_count": 191,
   "metadata": {},
   "outputs": [
    {
     "name": "stdout",
     "output_type": "stream",
     "text": [
      "Generated embeddings for 'Vibe', shape: (1350, 384)\n",
      "Generated embeddings for 'Activities', shape: (1350, 384)\n",
      "Combined embeddings shape: (1350, 768)\n"
     ]
    }
   ],
   "source": [
    "# keep columns we need - vibe, activities\n",
    "text_data = vibe_data.iloc[:, 3:]\n",
    "\n",
    "# generate embeddings for the data with Sentence-Bert since we have full sentences and need context\n",
    "model = SentenceTransformer('all-MiniLM-L6-v2')\n",
    "\n",
    "text_embeddings = {}\n",
    "\n",
    "for col in text_data.columns:\n",
    "    col_texts = text_data[col].astype(str).tolist()\n",
    "    text_embeddings[col] = model.encode(col_texts)\n",
    "    print(f\"Generated embeddings for '{col}', shape: {text_embeddings[col].shape}\")\n",
    "\n",
    "# combine embeddings from both columns so both can be used in clustering\n",
    "all_embeddings = np.hstack([text_embeddings['Vibe'], text_embeddings['Activities']])\n",
    "print(f\"Combined embeddings shape: {all_embeddings.shape}\")\n",
    "\n",
    "# standardize the embeddings\n",
    "scaler = StandardScaler()\n",
    "scaled_embeddings = scaler.fit_transform(all_embeddings)"
   ]
  },
  {
   "cell_type": "code",
   "execution_count": 192,
   "metadata": {},
   "outputs": [
    {
     "name": "stderr",
     "output_type": "stream",
     "text": [
      "/Users/bhargavilanka/opt/anaconda3/lib/python3.8/site-packages/sklearn/cluster/_kmeans.py:1412: FutureWarning: The default value of `n_init` will change from 10 to 'auto' in 1.4. Set the value of `n_init` explicitly to suppress the warning\n",
      "  super()._check_params_vs_input(X, default_n_init=10)\n",
      "/Users/bhargavilanka/opt/anaconda3/lib/python3.8/site-packages/sklearn/cluster/_kmeans.py:1412: FutureWarning: The default value of `n_init` will change from 10 to 'auto' in 1.4. Set the value of `n_init` explicitly to suppress the warning\n",
      "  super()._check_params_vs_input(X, default_n_init=10)\n",
      "/Users/bhargavilanka/opt/anaconda3/lib/python3.8/site-packages/sklearn/cluster/_kmeans.py:1412: FutureWarning: The default value of `n_init` will change from 10 to 'auto' in 1.4. Set the value of `n_init` explicitly to suppress the warning\n",
      "  super()._check_params_vs_input(X, default_n_init=10)\n",
      "/Users/bhargavilanka/opt/anaconda3/lib/python3.8/site-packages/sklearn/cluster/_kmeans.py:1412: FutureWarning: The default value of `n_init` will change from 10 to 'auto' in 1.4. Set the value of `n_init` explicitly to suppress the warning\n",
      "  super()._check_params_vs_input(X, default_n_init=10)\n",
      "/Users/bhargavilanka/opt/anaconda3/lib/python3.8/site-packages/sklearn/cluster/_kmeans.py:1412: FutureWarning: The default value of `n_init` will change from 10 to 'auto' in 1.4. Set the value of `n_init` explicitly to suppress the warning\n",
      "  super()._check_params_vs_input(X, default_n_init=10)\n",
      "/Users/bhargavilanka/opt/anaconda3/lib/python3.8/site-packages/sklearn/cluster/_kmeans.py:1412: FutureWarning: The default value of `n_init` will change from 10 to 'auto' in 1.4. Set the value of `n_init` explicitly to suppress the warning\n",
      "  super()._check_params_vs_input(X, default_n_init=10)\n",
      "/Users/bhargavilanka/opt/anaconda3/lib/python3.8/site-packages/sklearn/cluster/_kmeans.py:1412: FutureWarning: The default value of `n_init` will change from 10 to 'auto' in 1.4. Set the value of `n_init` explicitly to suppress the warning\n",
      "  super()._check_params_vs_input(X, default_n_init=10)\n",
      "/Users/bhargavilanka/opt/anaconda3/lib/python3.8/site-packages/sklearn/cluster/_kmeans.py:1412: FutureWarning: The default value of `n_init` will change from 10 to 'auto' in 1.4. Set the value of `n_init` explicitly to suppress the warning\n",
      "  super()._check_params_vs_input(X, default_n_init=10)\n",
      "/Users/bhargavilanka/opt/anaconda3/lib/python3.8/site-packages/sklearn/cluster/_kmeans.py:1412: FutureWarning: The default value of `n_init` will change from 10 to 'auto' in 1.4. Set the value of `n_init` explicitly to suppress the warning\n",
      "  super()._check_params_vs_input(X, default_n_init=10)\n",
      "/Users/bhargavilanka/opt/anaconda3/lib/python3.8/site-packages/sklearn/cluster/_kmeans.py:1412: FutureWarning: The default value of `n_init` will change from 10 to 'auto' in 1.4. Set the value of `n_init` explicitly to suppress the warning\n",
      "  super()._check_params_vs_input(X, default_n_init=10)\n"
     ]
    },
    {
     "data": {
      "image/png": "[encoded data removed]",
      "text/plain": [
       "<Figure size 576x360 with 1 Axes>"
      ]
     },
     "metadata": {
      "needs_background": "light"
     },
     "output_type": "display_data"
    }
   ],
   "source": [
    "# perform k-means clustering - evaluate several k values\n",
    "wcss = []\n",
    "for k in range(1, 11):\n",
    "    kmeans = KMeans(n_clusters=k, random_state=42)\n",
    "    kmeans.fit(scaled_embeddings)\n",
    "    wcss.append(kmeans.inertia_)\n",
    "\n",
    "# review elbow graph to determine optimal k\n",
    "plt.figure(figsize=(8, 5))\n",
    "plt.plot(range(1, 11), wcss, marker='o')\n",
    "plt.title(\"Elbow Method\")\n",
    "plt.xlabel(\"Number of Clusters\")\n",
    "plt.ylabel(\"WCSS\")\n",
    "plt.show()"
   ]
  },
  {
   "cell_type": "code",
   "execution_count": 193,
   "metadata": {},
   "outputs": [
    {
     "name": "stderr",
     "output_type": "stream",
     "text": [
      "/Users/bhargavilanka/opt/anaconda3/lib/python3.8/site-packages/sklearn/cluster/_kmeans.py:1412: FutureWarning: The default value of `n_init` will change from 10 to 'auto' in 1.4. Set the value of `n_init` explicitly to suppress the warning\n",
      "  super()._check_params_vs_input(X, default_n_init=10)\n"
     ]
    }
   ],
   "source": [
    "# run k-means with optimal k and save clusters\n",
    "optimal_k = 5\n",
    "kmeans = KMeans(n_clusters=optimal_k, random_state=42)\n",
    "clusters = kmeans.fit_predict(scaled_embeddings)\n",
    "vibe_data[\"Cluster_Vibe\"] = clusters"
   ]
  },
  {
   "cell_type": "code",
   "execution_count": 194,
   "metadata": {},
   "outputs": [],
   "source": [
    "# determine which neighborhoods are closest together within a cluster\n",
    "\n",
    "def find_closest_text_neighborhood_cluster(city1, neighborhood1, city2, df, optimal_k):\n",
    "    # normalize city and neighborhood data\n",
    "    city1 = city1.strip().lower()\n",
    "    neighborhood1 = neighborhood1.strip().lower()\n",
    "    city2 = city2.strip().lower()\n",
    "\n",
    "    df[\"City_norm\"] = df[\"City\"].str.strip().str.lower()\n",
    "    df[\"Neighborhood_norm\"] = df[\"Neighborhood\"].str.strip().str.lower()\n",
    "\n",
    "    ### filter what data we are actually looking at (based on user input) and clean (NaN --> 0)\n",
    "\n",
    "    # filter city 1 data\n",
    "    city1_data = df[df[\"City_norm\"] == city1]\n",
    "    if city1_data.empty:\n",
    "        raise ValueError(f\"No data found for city '{city1}'.\")\n",
    "\n",
    "    # set NaN values to 0\n",
    "    city1_data = city1_data.fillna(0)\n",
    "\n",
    "    # filter city 2 data\n",
    "    city2_data = df[df[\"City_norm\"] == city2]\n",
    "    if city2_data.empty:\n",
    "        raise ValueError(f\"No data found for city '{city2}'.\")\n",
    "\n",
    "    # set NaN values to 0\n",
    "    city2_data = city2_data.fillna(0)\n",
    "\n",
    "    ### get data for neighborhood1\n",
    "    neighborhood1_data = city1_data[city1_data[\"Neighborhood_norm\"] == neighborhood1].iloc[:, 4:]\n",
    "    if neighborhood1_data.empty:\n",
    "        raise ValueError(f\"No data found for neighborhood '{neighborhood1}' in city '{city1}'.\")\n",
    "\n",
    "    # get cluster labels for neighborhood1\n",
    "    neighborhood1_cluster = city1_data[city1_data[\"Neighborhood_norm\"] == neighborhood1][\"Cluster_Vibe\"].iloc[0]\n",
    "\n",
    "    # extract the vibe and activities columns for embedding for neighborhood1\n",
    "    neighborhood1_vibe = city1_data[city1_data[\"Neighborhood_norm\"] == neighborhood1][\"Vibe\"].values[0]\n",
    "    neighborhood1_activities = city1_data[city1_data[\"Neighborhood_norm\"] == neighborhood1][\"Activities\"].values[0]\n",
    "\n",
    "    # perform embedding for neighboorhood1\n",
    "    model = SentenceTransformer('all-MiniLM-L6-v2')\n",
    "    neighborhood1_vibe_embedding = model.encode([neighborhood1_vibe])[0]\n",
    "    neighborhood1_activities_embedding = model.encode([neighborhood1_activities])[0]\n",
    "\n",
    "    # combine embeddings for neighboorhood1\n",
    "    neighborhood1_combined_embedding = np.concatenate([neighborhood1_vibe_embedding, neighborhood1_activities_embedding])\n",
    "\n",
    "    # extract data from city2 that is in neighborhood1 cluster\n",
    "    city2_in_same_cluster = city2_data[city2_data[\"Cluster_Vibe\"] == neighborhood1_cluster]\n",
    "\n",
    "    if not city2_in_same_cluster.empty:\n",
    "\n",
    "        # extract the vibe and activities columns for embedding for city2\n",
    "        city2_vibes = city2_in_same_cluster[\"Vibe\"].tolist()\n",
    "        city2_activities = city2_in_same_cluster[\"Activities\"].tolist()\n",
    "\n",
    "        # perform embedding for city2\n",
    "        city2_vibe_embeddings = model.encode(city2_vibes)\n",
    "        city2_activities_embeddings = model.encode(city2_activities)\n",
    "\n",
    "        # combine embeddings for city2\n",
    "        city2_combined_embeddings = np.concatenate([city2_vibe_embeddings, city2_activities_embeddings], axis=1)\n",
    "\n",
    "        # compute distances between the neighborhood1 embeddings and city2 embeddings\n",
    "        distances = euclidean_distances([neighborhood1_combined_embedding], city2_combined_embeddings)\n",
    "\n",
    "        # find and return closest neighborhood in city2\n",
    "        closest_idx = np.argmin(distances)\n",
    "        return city2_in_same_cluster.iloc[closest_idx][\"Neighborhood\"]\n",
    "    else:\n",
    "        print(\"No neighborhoods found in the same cluster as neighborhood1 in city2.\")\n",
    "        # use KNN without clusters if no neighborhoods from city2 in the same cluster as neighborhood1\n",
    "        city2_text = city2_data.iloc[:, 4:]\n",
    "        city2_text = city2_data.iloc[:, :-2]\n",
    "        distances = euclidean_distances(neighborhood1_data, city2_text)\n",
    "\n",
    "        # find and return closest neighborhood in city2\n",
    "        closest_idx = np.argmin(distances)\n",
    "        return city2_data.iloc[closest_idx][\"Neighborhood\"]"
   ]
  },
  {
   "cell_type": "markdown",
   "metadata": {},
   "source": [
    "##### KNN - All Data"
   ]
  },
  {
   "cell_type": "code",
   "execution_count": 195,
   "metadata": {},
   "outputs": [],
   "source": [
    "from sklearn.metrics.pairwise import euclidean_distances\n",
    "from sklearn.preprocessing import StandardScaler\n",
    "from sentence_transformers import SentenceTransformer\n",
    "import numpy as np\n",
    "import pandas as pd\n",
    "\n",
    "def find_nearest_neighborhood(city1, neighborhood1, city2, df):\n",
    "    # Normalize city and neighborhood data\n",
    "    city1 = city1.strip().lower()\n",
    "    neighborhood1 = neighborhood1.strip().lower()\n",
    "    city2 = city2.strip().lower()\n",
    "\n",
    "    # Normalize columns in the DataFrame\n",
    "    df[\"City_norm\"] = df[\"City\"].str.strip().str.lower()\n",
    "    df[\"Neighborhood_norm\"] = df[\"Neighborhood\"].str.strip().str.lower()\n",
    "\n",
    "    # Filter City 1 data\n",
    "    city1_data = df[df[\"City_norm\"] == city1]\n",
    "    if city1_data.empty:\n",
    "        raise ValueError(f\"No data found for city '{city1}'.\")\n",
    "    city1_data = city1_data.fillna(0)\n",
    "\n",
    "    # Filter City 2 data\n",
    "    city2_data = df[df[\"City_norm\"] == city2]\n",
    "    if city2_data.empty:\n",
    "        raise ValueError(f\"No data found for city '{city2}'.\")\n",
    "    city2_data = city2_data.fillna(0)\n",
    "\n",
    "    # Get data for the specified neighborhood in City 1\n",
    "    neighborhood1_data = city1_data[city1_data[\"Neighborhood_norm\"] == neighborhood1]\n",
    "    if neighborhood1_data.empty:\n",
    "        raise ValueError(f\"No data found for neighborhood '{neighborhood1}' in city '{city1}'.\")\n",
    "\n",
    "    # Initialize SentenceTransformer for embeddings\n",
    "    model = SentenceTransformer('all-MiniLM-L6-v2')\n",
    "\n",
    "    # Identify numeric and text columns\n",
    "    numerical_cols = df.select_dtypes(include=[np.number]).columns\n",
    "    text_cols = [\"Vibe\", \"Activities\"]  # Adjust as necessary for your dataset\n",
    "\n",
    "    # Embed text data for neighborhood1\n",
    "    neighborhood1_embeddings = []\n",
    "    for col in text_cols:\n",
    "        if col in neighborhood1_data.columns:\n",
    "            text = neighborhood1_data[col].values[0]\n",
    "            neighborhood1_embeddings.append(model.encode([text])[0])\n",
    "    neighborhood1_combined_embedding = np.concatenate(neighborhood1_embeddings) if neighborhood1_embeddings else np.array([])\n",
    "\n",
    "    # Embed text data for city2\n",
    "    city2_embeddings = []\n",
    "    for col in text_cols:\n",
    "        if col in city2_data.columns:\n",
    "            city2_texts = city2_data[col].tolist()\n",
    "            city2_embeddings.append(model.encode(city2_texts))\n",
    "    city2_combined_embeddings = np.concatenate(city2_embeddings, axis=1) if city2_embeddings else np.empty((len(city2_data), 0))\n",
    "\n",
    "    # Standardize numerical data\n",
    "    if not numerical_cols.empty:\n",
    "        scaler = StandardScaler()\n",
    "        city1_numerical = scaler.fit_transform(neighborhood1_data[numerical_cols])\n",
    "        city2_numerical = scaler.transform(city2_data[numerical_cols])\n",
    "    else:\n",
    "        city1_numerical = np.empty((1, 0))\n",
    "        city2_numerical = np.empty((len(city2_data), 0))\n",
    "\n",
    "    # Combine text embeddings and numerical data\n",
    "    neighborhood1_combined = np.concatenate([neighborhood1_combined_embedding, city1_numerical[0]])\n",
    "    city2_combined = np.hstack([city2_combined_embeddings, city2_numerical])\n",
    "\n",
    "    # Compute distances\n",
    "    distances = euclidean_distances([neighborhood1_combined], city2_combined)\n",
    "\n",
    "    # Find the index of the closest neighborhood\n",
    "    closest_idx = np.argmin(distances)\n",
    "    return city2_data.iloc[closest_idx][\"Neighborhood\"]\n"
   ]
  },
  {
   "cell_type": "code",
   "execution_count": 197,
   "metadata": {},
   "outputs": [
    {
     "name": "stdout",
     "output_type": "stream",
     "text": [
      "Closest demo neighborhood: Mission Bay\n",
      "Closest vibe neighborhood: Marina\n",
      "Closest neighborhood: Mission Bay\n"
     ]
    }
   ],
   "source": [
    "city1 = \"Boston\"\n",
    "neighborhood1 = \"Seaport\"\n",
    "city2 = \"San Francisco\"\n",
    "\n",
    "demo_neighborhood = find_closest_demo_neighborhood_cluster(city1, neighborhood1, city2, demo_data, optimal_k)\n",
    "print(\"Closest demo neighborhood:\", demo_neighborhood)\n",
    "\n",
    "vibe_neighborhood = find_closest_text_neighborhood_cluster(city1, neighborhood1, city2, vibe_data, optimal_k)\n",
    "print(\"Closest vibe neighborhood:\", vibe_neighborhood)\n",
    "\n",
    "knn_neighborhood = find_nearest_neighborhood(city1, neighborhood1, city2, all_data)\n",
    "print(\"Closest neighborhood:\", knn_neighborhood)\n"
   ]
  }
 ],
 "metadata": {
  "kernelspec": {
   "display_name": "base",
   "language": "python",
   "name": "python3"
  },
  "language_info": {
   "codemirror_mode": {
    "name": "ipython",
    "version": 3
   },
   "file_extension": ".py",
   "mimetype": "text/x-python",
   "name": "python",
   "nbconvert_exporter": "python",
   "pygments_lexer": "ipython3",
   "version": "3.8.5"
  }
 },
 "nbformat": 4,
 "nbformat_minor": 2
}
